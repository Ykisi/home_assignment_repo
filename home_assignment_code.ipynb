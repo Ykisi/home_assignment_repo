{
  "nbformat": 4,
  "nbformat_minor": 0,
  "metadata": {
    "colab": {
      "provenance": []
    },
    "kernelspec": {
      "name": "python3",
      "display_name": "Python 3"
    },
    "language_info": {
      "name": "python"
    },
    "widgets": {
      "application/vnd.jupyter.widget-state+json": {
        "3c0340dbf87146b99864f971ef885a5f": {
          "model_module": "@jupyter-widgets/controls",
          "model_name": "HBoxModel",
          "model_module_version": "1.5.0",
          "state": {
            "_dom_classes": [],
            "_model_module": "@jupyter-widgets/controls",
            "_model_module_version": "1.5.0",
            "_model_name": "HBoxModel",
            "_view_count": null,
            "_view_module": "@jupyter-widgets/controls",
            "_view_module_version": "1.5.0",
            "_view_name": "HBoxView",
            "box_style": "",
            "children": [
              "IPY_MODEL_ad453470f8dc44818a161164d781bebb",
              "IPY_MODEL_56a516f59bf5463fa0cf948b31a03851",
              "IPY_MODEL_af979023799c4b818f8cda46b7a93bd8"
            ],
            "layout": "IPY_MODEL_404b325bb3dd4be1b7c4ebb77c27050d"
          }
        },
        "ad453470f8dc44818a161164d781bebb": {
          "model_module": "@jupyter-widgets/controls",
          "model_name": "HTMLModel",
          "model_module_version": "1.5.0",
          "state": {
            "_dom_classes": [],
            "_model_module": "@jupyter-widgets/controls",
            "_model_module_version": "1.5.0",
            "_model_name": "HTMLModel",
            "_view_count": null,
            "_view_module": "@jupyter-widgets/controls",
            "_view_module_version": "1.5.0",
            "_view_name": "HTMLView",
            "description": "",
            "description_tooltip": null,
            "layout": "IPY_MODEL_910fb9e66f094917ba12236494391438",
            "placeholder": "​",
            "style": "IPY_MODEL_f8d8d0df66be43f88d5a367a735c7677",
            "value": "Summarize dataset: 100%"
          }
        },
        "56a516f59bf5463fa0cf948b31a03851": {
          "model_module": "@jupyter-widgets/controls",
          "model_name": "FloatProgressModel",
          "model_module_version": "1.5.0",
          "state": {
            "_dom_classes": [],
            "_model_module": "@jupyter-widgets/controls",
            "_model_module_version": "1.5.0",
            "_model_name": "FloatProgressModel",
            "_view_count": null,
            "_view_module": "@jupyter-widgets/controls",
            "_view_module_version": "1.5.0",
            "_view_name": "ProgressView",
            "bar_style": "success",
            "description": "",
            "description_tooltip": null,
            "layout": "IPY_MODEL_6e0913b5636842f3a9268c873f05006d",
            "max": 5,
            "min": 0,
            "orientation": "horizontal",
            "style": "IPY_MODEL_31e7be45e7b5440ebb0cc28c05eed779",
            "value": 5
          }
        },
        "af979023799c4b818f8cda46b7a93bd8": {
          "model_module": "@jupyter-widgets/controls",
          "model_name": "HTMLModel",
          "model_module_version": "1.5.0",
          "state": {
            "_dom_classes": [],
            "_model_module": "@jupyter-widgets/controls",
            "_model_module_version": "1.5.0",
            "_model_name": "HTMLModel",
            "_view_count": null,
            "_view_module": "@jupyter-widgets/controls",
            "_view_module_version": "1.5.0",
            "_view_name": "HTMLView",
            "description": "",
            "description_tooltip": null,
            "layout": "IPY_MODEL_46ef519ce50c468ebc697d1745e43fea",
            "placeholder": "​",
            "style": "IPY_MODEL_1f2ac0cd391e46559aae1a4938435d0e",
            "value": " 769/769 [00:24&lt;00:00, 37.24it/s, Completed]"
          }
        },
        "404b325bb3dd4be1b7c4ebb77c27050d": {
          "model_module": "@jupyter-widgets/base",
          "model_name": "LayoutModel",
          "model_module_version": "1.2.0",
          "state": {
            "_model_module": "@jupyter-widgets/base",
            "_model_module_version": "1.2.0",
            "_model_name": "LayoutModel",
            "_view_count": null,
            "_view_module": "@jupyter-widgets/base",
            "_view_module_version": "1.2.0",
            "_view_name": "LayoutView",
            "align_content": null,
            "align_items": null,
            "align_self": null,
            "border": null,
            "bottom": null,
            "display": null,
            "flex": null,
            "flex_flow": null,
            "grid_area": null,
            "grid_auto_columns": null,
            "grid_auto_flow": null,
            "grid_auto_rows": null,
            "grid_column": null,
            "grid_gap": null,
            "grid_row": null,
            "grid_template_areas": null,
            "grid_template_columns": null,
            "grid_template_rows": null,
            "height": null,
            "justify_content": null,
            "justify_items": null,
            "left": null,
            "margin": null,
            "max_height": null,
            "max_width": null,
            "min_height": null,
            "min_width": null,
            "object_fit": null,
            "object_position": null,
            "order": null,
            "overflow": null,
            "overflow_x": null,
            "overflow_y": null,
            "padding": null,
            "right": null,
            "top": null,
            "visibility": null,
            "width": null
          }
        },
        "910fb9e66f094917ba12236494391438": {
          "model_module": "@jupyter-widgets/base",
          "model_name": "LayoutModel",
          "model_module_version": "1.2.0",
          "state": {
            "_model_module": "@jupyter-widgets/base",
            "_model_module_version": "1.2.0",
            "_model_name": "LayoutModel",
            "_view_count": null,
            "_view_module": "@jupyter-widgets/base",
            "_view_module_version": "1.2.0",
            "_view_name": "LayoutView",
            "align_content": null,
            "align_items": null,
            "align_self": null,
            "border": null,
            "bottom": null,
            "display": null,
            "flex": null,
            "flex_flow": null,
            "grid_area": null,
            "grid_auto_columns": null,
            "grid_auto_flow": null,
            "grid_auto_rows": null,
            "grid_column": null,
            "grid_gap": null,
            "grid_row": null,
            "grid_template_areas": null,
            "grid_template_columns": null,
            "grid_template_rows": null,
            "height": null,
            "justify_content": null,
            "justify_items": null,
            "left": null,
            "margin": null,
            "max_height": null,
            "max_width": null,
            "min_height": null,
            "min_width": null,
            "object_fit": null,
            "object_position": null,
            "order": null,
            "overflow": null,
            "overflow_x": null,
            "overflow_y": null,
            "padding": null,
            "right": null,
            "top": null,
            "visibility": null,
            "width": null
          }
        },
        "f8d8d0df66be43f88d5a367a735c7677": {
          "model_module": "@jupyter-widgets/controls",
          "model_name": "DescriptionStyleModel",
          "model_module_version": "1.5.0",
          "state": {
            "_model_module": "@jupyter-widgets/controls",
            "_model_module_version": "1.5.0",
            "_model_name": "DescriptionStyleModel",
            "_view_count": null,
            "_view_module": "@jupyter-widgets/base",
            "_view_module_version": "1.2.0",
            "_view_name": "StyleView",
            "description_width": ""
          }
        },
        "6e0913b5636842f3a9268c873f05006d": {
          "model_module": "@jupyter-widgets/base",
          "model_name": "LayoutModel",
          "model_module_version": "1.2.0",
          "state": {
            "_model_module": "@jupyter-widgets/base",
            "_model_module_version": "1.2.0",
            "_model_name": "LayoutModel",
            "_view_count": null,
            "_view_module": "@jupyter-widgets/base",
            "_view_module_version": "1.2.0",
            "_view_name": "LayoutView",
            "align_content": null,
            "align_items": null,
            "align_self": null,
            "border": null,
            "bottom": null,
            "display": null,
            "flex": null,
            "flex_flow": null,
            "grid_area": null,
            "grid_auto_columns": null,
            "grid_auto_flow": null,
            "grid_auto_rows": null,
            "grid_column": null,
            "grid_gap": null,
            "grid_row": null,
            "grid_template_areas": null,
            "grid_template_columns": null,
            "grid_template_rows": null,
            "height": null,
            "justify_content": null,
            "justify_items": null,
            "left": null,
            "margin": null,
            "max_height": null,
            "max_width": null,
            "min_height": null,
            "min_width": null,
            "object_fit": null,
            "object_position": null,
            "order": null,
            "overflow": null,
            "overflow_x": null,
            "overflow_y": null,
            "padding": null,
            "right": null,
            "top": null,
            "visibility": null,
            "width": null
          }
        },
        "31e7be45e7b5440ebb0cc28c05eed779": {
          "model_module": "@jupyter-widgets/controls",
          "model_name": "ProgressStyleModel",
          "model_module_version": "1.5.0",
          "state": {
            "_model_module": "@jupyter-widgets/controls",
            "_model_module_version": "1.5.0",
            "_model_name": "ProgressStyleModel",
            "_view_count": null,
            "_view_module": "@jupyter-widgets/base",
            "_view_module_version": "1.2.0",
            "_view_name": "StyleView",
            "bar_color": null,
            "description_width": ""
          }
        },
        "46ef519ce50c468ebc697d1745e43fea": {
          "model_module": "@jupyter-widgets/base",
          "model_name": "LayoutModel",
          "model_module_version": "1.2.0",
          "state": {
            "_model_module": "@jupyter-widgets/base",
            "_model_module_version": "1.2.0",
            "_model_name": "LayoutModel",
            "_view_count": null,
            "_view_module": "@jupyter-widgets/base",
            "_view_module_version": "1.2.0",
            "_view_name": "LayoutView",
            "align_content": null,
            "align_items": null,
            "align_self": null,
            "border": null,
            "bottom": null,
            "display": null,
            "flex": null,
            "flex_flow": null,
            "grid_area": null,
            "grid_auto_columns": null,
            "grid_auto_flow": null,
            "grid_auto_rows": null,
            "grid_column": null,
            "grid_gap": null,
            "grid_row": null,
            "grid_template_areas": null,
            "grid_template_columns": null,
            "grid_template_rows": null,
            "height": null,
            "justify_content": null,
            "justify_items": null,
            "left": null,
            "margin": null,
            "max_height": null,
            "max_width": null,
            "min_height": null,
            "min_width": null,
            "object_fit": null,
            "object_position": null,
            "order": null,
            "overflow": null,
            "overflow_x": null,
            "overflow_y": null,
            "padding": null,
            "right": null,
            "top": null,
            "visibility": null,
            "width": null
          }
        },
        "1f2ac0cd391e46559aae1a4938435d0e": {
          "model_module": "@jupyter-widgets/controls",
          "model_name": "DescriptionStyleModel",
          "model_module_version": "1.5.0",
          "state": {
            "_model_module": "@jupyter-widgets/controls",
            "_model_module_version": "1.5.0",
            "_model_name": "DescriptionStyleModel",
            "_view_count": null,
            "_view_module": "@jupyter-widgets/base",
            "_view_module_version": "1.2.0",
            "_view_name": "StyleView",
            "description_width": ""
          }
        },
        "6963fb71a2cf4da5a920f51c80123944": {
          "model_module": "@jupyter-widgets/controls",
          "model_name": "HBoxModel",
          "model_module_version": "1.5.0",
          "state": {
            "_dom_classes": [],
            "_model_module": "@jupyter-widgets/controls",
            "_model_module_version": "1.5.0",
            "_model_name": "HBoxModel",
            "_view_count": null,
            "_view_module": "@jupyter-widgets/controls",
            "_view_module_version": "1.5.0",
            "_view_name": "HBoxView",
            "box_style": "",
            "children": [
              "IPY_MODEL_4b423d077fc54e0e835bdac4f0d89a85",
              "IPY_MODEL_c9f6658ac4a64ffcb6eb144d627d2534",
              "IPY_MODEL_123a16a05171446b8188409ca35a4b31"
            ],
            "layout": "IPY_MODEL_1abaf7572f884e8ea30661f7c07f93b6"
          }
        },
        "4b423d077fc54e0e835bdac4f0d89a85": {
          "model_module": "@jupyter-widgets/controls",
          "model_name": "HTMLModel",
          "model_module_version": "1.5.0",
          "state": {
            "_dom_classes": [],
            "_model_module": "@jupyter-widgets/controls",
            "_model_module_version": "1.5.0",
            "_model_name": "HTMLModel",
            "_view_count": null,
            "_view_module": "@jupyter-widgets/controls",
            "_view_module_version": "1.5.0",
            "_view_name": "HTMLView",
            "description": "",
            "description_tooltip": null,
            "layout": "IPY_MODEL_a61b78f42c9a4556959ed809a6550a53",
            "placeholder": "​",
            "style": "IPY_MODEL_d75b4398f9ea4ad9a4a682ea4d9cd60a",
            "value": "Generate report structure: 100%"
          }
        },
        "c9f6658ac4a64ffcb6eb144d627d2534": {
          "model_module": "@jupyter-widgets/controls",
          "model_name": "FloatProgressModel",
          "model_module_version": "1.5.0",
          "state": {
            "_dom_classes": [],
            "_model_module": "@jupyter-widgets/controls",
            "_model_module_version": "1.5.0",
            "_model_name": "FloatProgressModel",
            "_view_count": null,
            "_view_module": "@jupyter-widgets/controls",
            "_view_module_version": "1.5.0",
            "_view_name": "ProgressView",
            "bar_style": "success",
            "description": "",
            "description_tooltip": null,
            "layout": "IPY_MODEL_9c4ebfbfe1fb47d090a44c058292c4b0",
            "max": 1,
            "min": 0,
            "orientation": "horizontal",
            "style": "IPY_MODEL_43f9a0b4349e4270af0fcd71e139b090",
            "value": 1
          }
        },
        "123a16a05171446b8188409ca35a4b31": {
          "model_module": "@jupyter-widgets/controls",
          "model_name": "HTMLModel",
          "model_module_version": "1.5.0",
          "state": {
            "_dom_classes": [],
            "_model_module": "@jupyter-widgets/controls",
            "_model_module_version": "1.5.0",
            "_model_name": "HTMLModel",
            "_view_count": null,
            "_view_module": "@jupyter-widgets/controls",
            "_view_module_version": "1.5.0",
            "_view_name": "HTMLView",
            "description": "",
            "description_tooltip": null,
            "layout": "IPY_MODEL_5369537306e34c6d8eda5e1102229549",
            "placeholder": "​",
            "style": "IPY_MODEL_45b71ef1701646ee98c0a8296083f2c0",
            "value": " 1/1 [08:41&lt;00:00, 521.01s/it]"
          }
        },
        "1abaf7572f884e8ea30661f7c07f93b6": {
          "model_module": "@jupyter-widgets/base",
          "model_name": "LayoutModel",
          "model_module_version": "1.2.0",
          "state": {
            "_model_module": "@jupyter-widgets/base",
            "_model_module_version": "1.2.0",
            "_model_name": "LayoutModel",
            "_view_count": null,
            "_view_module": "@jupyter-widgets/base",
            "_view_module_version": "1.2.0",
            "_view_name": "LayoutView",
            "align_content": null,
            "align_items": null,
            "align_self": null,
            "border": null,
            "bottom": null,
            "display": null,
            "flex": null,
            "flex_flow": null,
            "grid_area": null,
            "grid_auto_columns": null,
            "grid_auto_flow": null,
            "grid_auto_rows": null,
            "grid_column": null,
            "grid_gap": null,
            "grid_row": null,
            "grid_template_areas": null,
            "grid_template_columns": null,
            "grid_template_rows": null,
            "height": null,
            "justify_content": null,
            "justify_items": null,
            "left": null,
            "margin": null,
            "max_height": null,
            "max_width": null,
            "min_height": null,
            "min_width": null,
            "object_fit": null,
            "object_position": null,
            "order": null,
            "overflow": null,
            "overflow_x": null,
            "overflow_y": null,
            "padding": null,
            "right": null,
            "top": null,
            "visibility": null,
            "width": null
          }
        },
        "a61b78f42c9a4556959ed809a6550a53": {
          "model_module": "@jupyter-widgets/base",
          "model_name": "LayoutModel",
          "model_module_version": "1.2.0",
          "state": {
            "_model_module": "@jupyter-widgets/base",
            "_model_module_version": "1.2.0",
            "_model_name": "LayoutModel",
            "_view_count": null,
            "_view_module": "@jupyter-widgets/base",
            "_view_module_version": "1.2.0",
            "_view_name": "LayoutView",
            "align_content": null,
            "align_items": null,
            "align_self": null,
            "border": null,
            "bottom": null,
            "display": null,
            "flex": null,
            "flex_flow": null,
            "grid_area": null,
            "grid_auto_columns": null,
            "grid_auto_flow": null,
            "grid_auto_rows": null,
            "grid_column": null,
            "grid_gap": null,
            "grid_row": null,
            "grid_template_areas": null,
            "grid_template_columns": null,
            "grid_template_rows": null,
            "height": null,
            "justify_content": null,
            "justify_items": null,
            "left": null,
            "margin": null,
            "max_height": null,
            "max_width": null,
            "min_height": null,
            "min_width": null,
            "object_fit": null,
            "object_position": null,
            "order": null,
            "overflow": null,
            "overflow_x": null,
            "overflow_y": null,
            "padding": null,
            "right": null,
            "top": null,
            "visibility": null,
            "width": null
          }
        },
        "d75b4398f9ea4ad9a4a682ea4d9cd60a": {
          "model_module": "@jupyter-widgets/controls",
          "model_name": "DescriptionStyleModel",
          "model_module_version": "1.5.0",
          "state": {
            "_model_module": "@jupyter-widgets/controls",
            "_model_module_version": "1.5.0",
            "_model_name": "DescriptionStyleModel",
            "_view_count": null,
            "_view_module": "@jupyter-widgets/base",
            "_view_module_version": "1.2.0",
            "_view_name": "StyleView",
            "description_width": ""
          }
        },
        "9c4ebfbfe1fb47d090a44c058292c4b0": {
          "model_module": "@jupyter-widgets/base",
          "model_name": "LayoutModel",
          "model_module_version": "1.2.0",
          "state": {
            "_model_module": "@jupyter-widgets/base",
            "_model_module_version": "1.2.0",
            "_model_name": "LayoutModel",
            "_view_count": null,
            "_view_module": "@jupyter-widgets/base",
            "_view_module_version": "1.2.0",
            "_view_name": "LayoutView",
            "align_content": null,
            "align_items": null,
            "align_self": null,
            "border": null,
            "bottom": null,
            "display": null,
            "flex": null,
            "flex_flow": null,
            "grid_area": null,
            "grid_auto_columns": null,
            "grid_auto_flow": null,
            "grid_auto_rows": null,
            "grid_column": null,
            "grid_gap": null,
            "grid_row": null,
            "grid_template_areas": null,
            "grid_template_columns": null,
            "grid_template_rows": null,
            "height": null,
            "justify_content": null,
            "justify_items": null,
            "left": null,
            "margin": null,
            "max_height": null,
            "max_width": null,
            "min_height": null,
            "min_width": null,
            "object_fit": null,
            "object_position": null,
            "order": null,
            "overflow": null,
            "overflow_x": null,
            "overflow_y": null,
            "padding": null,
            "right": null,
            "top": null,
            "visibility": null,
            "width": null
          }
        },
        "43f9a0b4349e4270af0fcd71e139b090": {
          "model_module": "@jupyter-widgets/controls",
          "model_name": "ProgressStyleModel",
          "model_module_version": "1.5.0",
          "state": {
            "_model_module": "@jupyter-widgets/controls",
            "_model_module_version": "1.5.0",
            "_model_name": "ProgressStyleModel",
            "_view_count": null,
            "_view_module": "@jupyter-widgets/base",
            "_view_module_version": "1.2.0",
            "_view_name": "StyleView",
            "bar_color": null,
            "description_width": ""
          }
        },
        "5369537306e34c6d8eda5e1102229549": {
          "model_module": "@jupyter-widgets/base",
          "model_name": "LayoutModel",
          "model_module_version": "1.2.0",
          "state": {
            "_model_module": "@jupyter-widgets/base",
            "_model_module_version": "1.2.0",
            "_model_name": "LayoutModel",
            "_view_count": null,
            "_view_module": "@jupyter-widgets/base",
            "_view_module_version": "1.2.0",
            "_view_name": "LayoutView",
            "align_content": null,
            "align_items": null,
            "align_self": null,
            "border": null,
            "bottom": null,
            "display": null,
            "flex": null,
            "flex_flow": null,
            "grid_area": null,
            "grid_auto_columns": null,
            "grid_auto_flow": null,
            "grid_auto_rows": null,
            "grid_column": null,
            "grid_gap": null,
            "grid_row": null,
            "grid_template_areas": null,
            "grid_template_columns": null,
            "grid_template_rows": null,
            "height": null,
            "justify_content": null,
            "justify_items": null,
            "left": null,
            "margin": null,
            "max_height": null,
            "max_width": null,
            "min_height": null,
            "min_width": null,
            "object_fit": null,
            "object_position": null,
            "order": null,
            "overflow": null,
            "overflow_x": null,
            "overflow_y": null,
            "padding": null,
            "right": null,
            "top": null,
            "visibility": null,
            "width": null
          }
        },
        "45b71ef1701646ee98c0a8296083f2c0": {
          "model_module": "@jupyter-widgets/controls",
          "model_name": "DescriptionStyleModel",
          "model_module_version": "1.5.0",
          "state": {
            "_model_module": "@jupyter-widgets/controls",
            "_model_module_version": "1.5.0",
            "_model_name": "DescriptionStyleModel",
            "_view_count": null,
            "_view_module": "@jupyter-widgets/base",
            "_view_module_version": "1.2.0",
            "_view_name": "StyleView",
            "description_width": ""
          }
        },
        "07ffb4230d994b29a5ecbfe1ee0970ba": {
          "model_module": "@jupyter-widgets/controls",
          "model_name": "HBoxModel",
          "model_module_version": "1.5.0",
          "state": {
            "_dom_classes": [],
            "_model_module": "@jupyter-widgets/controls",
            "_model_module_version": "1.5.0",
            "_model_name": "HBoxModel",
            "_view_count": null,
            "_view_module": "@jupyter-widgets/controls",
            "_view_module_version": "1.5.0",
            "_view_name": "HBoxView",
            "box_style": "",
            "children": [
              "IPY_MODEL_9b8767dbe9f34cf4b5bfd5809b87e229",
              "IPY_MODEL_d05ff699983a4948b6feb1afc7c25f4b",
              "IPY_MODEL_f2168222dc3f40908c335b557a0b4724"
            ],
            "layout": "IPY_MODEL_cbf52b72a1b44faf903a34c42a6497ac"
          }
        },
        "9b8767dbe9f34cf4b5bfd5809b87e229": {
          "model_module": "@jupyter-widgets/controls",
          "model_name": "HTMLModel",
          "model_module_version": "1.5.0",
          "state": {
            "_dom_classes": [],
            "_model_module": "@jupyter-widgets/controls",
            "_model_module_version": "1.5.0",
            "_model_name": "HTMLModel",
            "_view_count": null,
            "_view_module": "@jupyter-widgets/controls",
            "_view_module_version": "1.5.0",
            "_view_name": "HTMLView",
            "description": "",
            "description_tooltip": null,
            "layout": "IPY_MODEL_76b05ebfd638439a8196672305d1a880",
            "placeholder": "​",
            "style": "IPY_MODEL_aea291c4a33444d398b1e4cdc70edfa5",
            "value": "Render HTML: 100%"
          }
        },
        "d05ff699983a4948b6feb1afc7c25f4b": {
          "model_module": "@jupyter-widgets/controls",
          "model_name": "FloatProgressModel",
          "model_module_version": "1.5.0",
          "state": {
            "_dom_classes": [],
            "_model_module": "@jupyter-widgets/controls",
            "_model_module_version": "1.5.0",
            "_model_name": "FloatProgressModel",
            "_view_count": null,
            "_view_module": "@jupyter-widgets/controls",
            "_view_module_version": "1.5.0",
            "_view_name": "ProgressView",
            "bar_style": "success",
            "description": "",
            "description_tooltip": null,
            "layout": "IPY_MODEL_ad87a64cf4b044d6b77c753d0a3e2560",
            "max": 1,
            "min": 0,
            "orientation": "horizontal",
            "style": "IPY_MODEL_6eb2567839384cebb062ac873610c662",
            "value": 1
          }
        },
        "f2168222dc3f40908c335b557a0b4724": {
          "model_module": "@jupyter-widgets/controls",
          "model_name": "HTMLModel",
          "model_module_version": "1.5.0",
          "state": {
            "_dom_classes": [],
            "_model_module": "@jupyter-widgets/controls",
            "_model_module_version": "1.5.0",
            "_model_name": "HTMLModel",
            "_view_count": null,
            "_view_module": "@jupyter-widgets/controls",
            "_view_module_version": "1.5.0",
            "_view_name": "HTMLView",
            "description": "",
            "description_tooltip": null,
            "layout": "IPY_MODEL_30ebd6c2bd644db1a8506b11e79cde69",
            "placeholder": "​",
            "style": "IPY_MODEL_9b5bc4a1a08143bc9bdf3e53f9ba2447",
            "value": " 1/1 [00:23&lt;00:00, 23.62s/it]"
          }
        },
        "cbf52b72a1b44faf903a34c42a6497ac": {
          "model_module": "@jupyter-widgets/base",
          "model_name": "LayoutModel",
          "model_module_version": "1.2.0",
          "state": {
            "_model_module": "@jupyter-widgets/base",
            "_model_module_version": "1.2.0",
            "_model_name": "LayoutModel",
            "_view_count": null,
            "_view_module": "@jupyter-widgets/base",
            "_view_module_version": "1.2.0",
            "_view_name": "LayoutView",
            "align_content": null,
            "align_items": null,
            "align_self": null,
            "border": null,
            "bottom": null,
            "display": null,
            "flex": null,
            "flex_flow": null,
            "grid_area": null,
            "grid_auto_columns": null,
            "grid_auto_flow": null,
            "grid_auto_rows": null,
            "grid_column": null,
            "grid_gap": null,
            "grid_row": null,
            "grid_template_areas": null,
            "grid_template_columns": null,
            "grid_template_rows": null,
            "height": null,
            "justify_content": null,
            "justify_items": null,
            "left": null,
            "margin": null,
            "max_height": null,
            "max_width": null,
            "min_height": null,
            "min_width": null,
            "object_fit": null,
            "object_position": null,
            "order": null,
            "overflow": null,
            "overflow_x": null,
            "overflow_y": null,
            "padding": null,
            "right": null,
            "top": null,
            "visibility": null,
            "width": null
          }
        },
        "76b05ebfd638439a8196672305d1a880": {
          "model_module": "@jupyter-widgets/base",
          "model_name": "LayoutModel",
          "model_module_version": "1.2.0",
          "state": {
            "_model_module": "@jupyter-widgets/base",
            "_model_module_version": "1.2.0",
            "_model_name": "LayoutModel",
            "_view_count": null,
            "_view_module": "@jupyter-widgets/base",
            "_view_module_version": "1.2.0",
            "_view_name": "LayoutView",
            "align_content": null,
            "align_items": null,
            "align_self": null,
            "border": null,
            "bottom": null,
            "display": null,
            "flex": null,
            "flex_flow": null,
            "grid_area": null,
            "grid_auto_columns": null,
            "grid_auto_flow": null,
            "grid_auto_rows": null,
            "grid_column": null,
            "grid_gap": null,
            "grid_row": null,
            "grid_template_areas": null,
            "grid_template_columns": null,
            "grid_template_rows": null,
            "height": null,
            "justify_content": null,
            "justify_items": null,
            "left": null,
            "margin": null,
            "max_height": null,
            "max_width": null,
            "min_height": null,
            "min_width": null,
            "object_fit": null,
            "object_position": null,
            "order": null,
            "overflow": null,
            "overflow_x": null,
            "overflow_y": null,
            "padding": null,
            "right": null,
            "top": null,
            "visibility": null,
            "width": null
          }
        },
        "aea291c4a33444d398b1e4cdc70edfa5": {
          "model_module": "@jupyter-widgets/controls",
          "model_name": "DescriptionStyleModel",
          "model_module_version": "1.5.0",
          "state": {
            "_model_module": "@jupyter-widgets/controls",
            "_model_module_version": "1.5.0",
            "_model_name": "DescriptionStyleModel",
            "_view_count": null,
            "_view_module": "@jupyter-widgets/base",
            "_view_module_version": "1.2.0",
            "_view_name": "StyleView",
            "description_width": ""
          }
        },
        "ad87a64cf4b044d6b77c753d0a3e2560": {
          "model_module": "@jupyter-widgets/base",
          "model_name": "LayoutModel",
          "model_module_version": "1.2.0",
          "state": {
            "_model_module": "@jupyter-widgets/base",
            "_model_module_version": "1.2.0",
            "_model_name": "LayoutModel",
            "_view_count": null,
            "_view_module": "@jupyter-widgets/base",
            "_view_module_version": "1.2.0",
            "_view_name": "LayoutView",
            "align_content": null,
            "align_items": null,
            "align_self": null,
            "border": null,
            "bottom": null,
            "display": null,
            "flex": null,
            "flex_flow": null,
            "grid_area": null,
            "grid_auto_columns": null,
            "grid_auto_flow": null,
            "grid_auto_rows": null,
            "grid_column": null,
            "grid_gap": null,
            "grid_row": null,
            "grid_template_areas": null,
            "grid_template_columns": null,
            "grid_template_rows": null,
            "height": null,
            "justify_content": null,
            "justify_items": null,
            "left": null,
            "margin": null,
            "max_height": null,
            "max_width": null,
            "min_height": null,
            "min_width": null,
            "object_fit": null,
            "object_position": null,
            "order": null,
            "overflow": null,
            "overflow_x": null,
            "overflow_y": null,
            "padding": null,
            "right": null,
            "top": null,
            "visibility": null,
            "width": null
          }
        },
        "6eb2567839384cebb062ac873610c662": {
          "model_module": "@jupyter-widgets/controls",
          "model_name": "ProgressStyleModel",
          "model_module_version": "1.5.0",
          "state": {
            "_model_module": "@jupyter-widgets/controls",
            "_model_module_version": "1.5.0",
            "_model_name": "ProgressStyleModel",
            "_view_count": null,
            "_view_module": "@jupyter-widgets/base",
            "_view_module_version": "1.2.0",
            "_view_name": "StyleView",
            "bar_color": null,
            "description_width": ""
          }
        },
        "30ebd6c2bd644db1a8506b11e79cde69": {
          "model_module": "@jupyter-widgets/base",
          "model_name": "LayoutModel",
          "model_module_version": "1.2.0",
          "state": {
            "_model_module": "@jupyter-widgets/base",
            "_model_module_version": "1.2.0",
            "_model_name": "LayoutModel",
            "_view_count": null,
            "_view_module": "@jupyter-widgets/base",
            "_view_module_version": "1.2.0",
            "_view_name": "LayoutView",
            "align_content": null,
            "align_items": null,
            "align_self": null,
            "border": null,
            "bottom": null,
            "display": null,
            "flex": null,
            "flex_flow": null,
            "grid_area": null,
            "grid_auto_columns": null,
            "grid_auto_flow": null,
            "grid_auto_rows": null,
            "grid_column": null,
            "grid_gap": null,
            "grid_row": null,
            "grid_template_areas": null,
            "grid_template_columns": null,
            "grid_template_rows": null,
            "height": null,
            "justify_content": null,
            "justify_items": null,
            "left": null,
            "margin": null,
            "max_height": null,
            "max_width": null,
            "min_height": null,
            "min_width": null,
            "object_fit": null,
            "object_position": null,
            "order": null,
            "overflow": null,
            "overflow_x": null,
            "overflow_y": null,
            "padding": null,
            "right": null,
            "top": null,
            "visibility": null,
            "width": null
          }
        },
        "9b5bc4a1a08143bc9bdf3e53f9ba2447": {
          "model_module": "@jupyter-widgets/controls",
          "model_name": "DescriptionStyleModel",
          "model_module_version": "1.5.0",
          "state": {
            "_model_module": "@jupyter-widgets/controls",
            "_model_module_version": "1.5.0",
            "_model_name": "DescriptionStyleModel",
            "_view_count": null,
            "_view_module": "@jupyter-widgets/base",
            "_view_module_version": "1.2.0",
            "_view_name": "StyleView",
            "description_width": ""
          }
        },
        "dfef6b94466a4f5ba6aefc14be6a4c84": {
          "model_module": "@jupyter-widgets/controls",
          "model_name": "HBoxModel",
          "model_module_version": "1.5.0",
          "state": {
            "_dom_classes": [],
            "_model_module": "@jupyter-widgets/controls",
            "_model_module_version": "1.5.0",
            "_model_name": "HBoxModel",
            "_view_count": null,
            "_view_module": "@jupyter-widgets/controls",
            "_view_module_version": "1.5.0",
            "_view_name": "HBoxView",
            "box_style": "",
            "children": [
              "IPY_MODEL_ba751a3cf1ca45cbbaa9bc8b14e7b96d",
              "IPY_MODEL_45737a8fdb154f169380628de63b2d40",
              "IPY_MODEL_c4a3438f1e3e4e62825da8458b365840"
            ],
            "layout": "IPY_MODEL_e57a96772d43430ea9463510c5dfd10d"
          }
        },
        "ba751a3cf1ca45cbbaa9bc8b14e7b96d": {
          "model_module": "@jupyter-widgets/controls",
          "model_name": "HTMLModel",
          "model_module_version": "1.5.0",
          "state": {
            "_dom_classes": [],
            "_model_module": "@jupyter-widgets/controls",
            "_model_module_version": "1.5.0",
            "_model_name": "HTMLModel",
            "_view_count": null,
            "_view_module": "@jupyter-widgets/controls",
            "_view_module_version": "1.5.0",
            "_view_name": "HTMLView",
            "description": "",
            "description_tooltip": null,
            "layout": "IPY_MODEL_360878a0a706489f9cf7c383dc5b8de9",
            "placeholder": "​",
            "style": "IPY_MODEL_4747a7ff37484cde9a0cb922f441060c",
            "value": "Export report to file: 100%"
          }
        },
        "45737a8fdb154f169380628de63b2d40": {
          "model_module": "@jupyter-widgets/controls",
          "model_name": "FloatProgressModel",
          "model_module_version": "1.5.0",
          "state": {
            "_dom_classes": [],
            "_model_module": "@jupyter-widgets/controls",
            "_model_module_version": "1.5.0",
            "_model_name": "FloatProgressModel",
            "_view_count": null,
            "_view_module": "@jupyter-widgets/controls",
            "_view_module_version": "1.5.0",
            "_view_name": "ProgressView",
            "bar_style": "success",
            "description": "",
            "description_tooltip": null,
            "layout": "IPY_MODEL_33f566aaf7e444a9ac7b18d32e5793a1",
            "max": 1,
            "min": 0,
            "orientation": "horizontal",
            "style": "IPY_MODEL_45f867333f094b5d970f053d66f27c0d",
            "value": 1
          }
        },
        "c4a3438f1e3e4e62825da8458b365840": {
          "model_module": "@jupyter-widgets/controls",
          "model_name": "HTMLModel",
          "model_module_version": "1.5.0",
          "state": {
            "_dom_classes": [],
            "_model_module": "@jupyter-widgets/controls",
            "_model_module_version": "1.5.0",
            "_model_name": "HTMLModel",
            "_view_count": null,
            "_view_module": "@jupyter-widgets/controls",
            "_view_module_version": "1.5.0",
            "_view_name": "HTMLView",
            "description": "",
            "description_tooltip": null,
            "layout": "IPY_MODEL_3750d8e485db4dd58ed6fade3e45872d",
            "placeholder": "​",
            "style": "IPY_MODEL_b1052613c0fb4997aac2aedc8070948e",
            "value": " 1/1 [00:00&lt;00:00,  5.40it/s]"
          }
        },
        "e57a96772d43430ea9463510c5dfd10d": {
          "model_module": "@jupyter-widgets/base",
          "model_name": "LayoutModel",
          "model_module_version": "1.2.0",
          "state": {
            "_model_module": "@jupyter-widgets/base",
            "_model_module_version": "1.2.0",
            "_model_name": "LayoutModel",
            "_view_count": null,
            "_view_module": "@jupyter-widgets/base",
            "_view_module_version": "1.2.0",
            "_view_name": "LayoutView",
            "align_content": null,
            "align_items": null,
            "align_self": null,
            "border": null,
            "bottom": null,
            "display": null,
            "flex": null,
            "flex_flow": null,
            "grid_area": null,
            "grid_auto_columns": null,
            "grid_auto_flow": null,
            "grid_auto_rows": null,
            "grid_column": null,
            "grid_gap": null,
            "grid_row": null,
            "grid_template_areas": null,
            "grid_template_columns": null,
            "grid_template_rows": null,
            "height": null,
            "justify_content": null,
            "justify_items": null,
            "left": null,
            "margin": null,
            "max_height": null,
            "max_width": null,
            "min_height": null,
            "min_width": null,
            "object_fit": null,
            "object_position": null,
            "order": null,
            "overflow": null,
            "overflow_x": null,
            "overflow_y": null,
            "padding": null,
            "right": null,
            "top": null,
            "visibility": null,
            "width": null
          }
        },
        "360878a0a706489f9cf7c383dc5b8de9": {
          "model_module": "@jupyter-widgets/base",
          "model_name": "LayoutModel",
          "model_module_version": "1.2.0",
          "state": {
            "_model_module": "@jupyter-widgets/base",
            "_model_module_version": "1.2.0",
            "_model_name": "LayoutModel",
            "_view_count": null,
            "_view_module": "@jupyter-widgets/base",
            "_view_module_version": "1.2.0",
            "_view_name": "LayoutView",
            "align_content": null,
            "align_items": null,
            "align_self": null,
            "border": null,
            "bottom": null,
            "display": null,
            "flex": null,
            "flex_flow": null,
            "grid_area": null,
            "grid_auto_columns": null,
            "grid_auto_flow": null,
            "grid_auto_rows": null,
            "grid_column": null,
            "grid_gap": null,
            "grid_row": null,
            "grid_template_areas": null,
            "grid_template_columns": null,
            "grid_template_rows": null,
            "height": null,
            "justify_content": null,
            "justify_items": null,
            "left": null,
            "margin": null,
            "max_height": null,
            "max_width": null,
            "min_height": null,
            "min_width": null,
            "object_fit": null,
            "object_position": null,
            "order": null,
            "overflow": null,
            "overflow_x": null,
            "overflow_y": null,
            "padding": null,
            "right": null,
            "top": null,
            "visibility": null,
            "width": null
          }
        },
        "4747a7ff37484cde9a0cb922f441060c": {
          "model_module": "@jupyter-widgets/controls",
          "model_name": "DescriptionStyleModel",
          "model_module_version": "1.5.0",
          "state": {
            "_model_module": "@jupyter-widgets/controls",
            "_model_module_version": "1.5.0",
            "_model_name": "DescriptionStyleModel",
            "_view_count": null,
            "_view_module": "@jupyter-widgets/base",
            "_view_module_version": "1.2.0",
            "_view_name": "StyleView",
            "description_width": ""
          }
        },
        "33f566aaf7e444a9ac7b18d32e5793a1": {
          "model_module": "@jupyter-widgets/base",
          "model_name": "LayoutModel",
          "model_module_version": "1.2.0",
          "state": {
            "_model_module": "@jupyter-widgets/base",
            "_model_module_version": "1.2.0",
            "_model_name": "LayoutModel",
            "_view_count": null,
            "_view_module": "@jupyter-widgets/base",
            "_view_module_version": "1.2.0",
            "_view_name": "LayoutView",
            "align_content": null,
            "align_items": null,
            "align_self": null,
            "border": null,
            "bottom": null,
            "display": null,
            "flex": null,
            "flex_flow": null,
            "grid_area": null,
            "grid_auto_columns": null,
            "grid_auto_flow": null,
            "grid_auto_rows": null,
            "grid_column": null,
            "grid_gap": null,
            "grid_row": null,
            "grid_template_areas": null,
            "grid_template_columns": null,
            "grid_template_rows": null,
            "height": null,
            "justify_content": null,
            "justify_items": null,
            "left": null,
            "margin": null,
            "max_height": null,
            "max_width": null,
            "min_height": null,
            "min_width": null,
            "object_fit": null,
            "object_position": null,
            "order": null,
            "overflow": null,
            "overflow_x": null,
            "overflow_y": null,
            "padding": null,
            "right": null,
            "top": null,
            "visibility": null,
            "width": null
          }
        },
        "45f867333f094b5d970f053d66f27c0d": {
          "model_module": "@jupyter-widgets/controls",
          "model_name": "ProgressStyleModel",
          "model_module_version": "1.5.0",
          "state": {
            "_model_module": "@jupyter-widgets/controls",
            "_model_module_version": "1.5.0",
            "_model_name": "ProgressStyleModel",
            "_view_count": null,
            "_view_module": "@jupyter-widgets/base",
            "_view_module_version": "1.2.0",
            "_view_name": "StyleView",
            "bar_color": null,
            "description_width": ""
          }
        },
        "3750d8e485db4dd58ed6fade3e45872d": {
          "model_module": "@jupyter-widgets/base",
          "model_name": "LayoutModel",
          "model_module_version": "1.2.0",
          "state": {
            "_model_module": "@jupyter-widgets/base",
            "_model_module_version": "1.2.0",
            "_model_name": "LayoutModel",
            "_view_count": null,
            "_view_module": "@jupyter-widgets/base",
            "_view_module_version": "1.2.0",
            "_view_name": "LayoutView",
            "align_content": null,
            "align_items": null,
            "align_self": null,
            "border": null,
            "bottom": null,
            "display": null,
            "flex": null,
            "flex_flow": null,
            "grid_area": null,
            "grid_auto_columns": null,
            "grid_auto_flow": null,
            "grid_auto_rows": null,
            "grid_column": null,
            "grid_gap": null,
            "grid_row": null,
            "grid_template_areas": null,
            "grid_template_columns": null,
            "grid_template_rows": null,
            "height": null,
            "justify_content": null,
            "justify_items": null,
            "left": null,
            "margin": null,
            "max_height": null,
            "max_width": null,
            "min_height": null,
            "min_width": null,
            "object_fit": null,
            "object_position": null,
            "order": null,
            "overflow": null,
            "overflow_x": null,
            "overflow_y": null,
            "padding": null,
            "right": null,
            "top": null,
            "visibility": null,
            "width": null
          }
        },
        "b1052613c0fb4997aac2aedc8070948e": {
          "model_module": "@jupyter-widgets/controls",
          "model_name": "DescriptionStyleModel",
          "model_module_version": "1.5.0",
          "state": {
            "_model_module": "@jupyter-widgets/controls",
            "_model_module_version": "1.5.0",
            "_model_name": "DescriptionStyleModel",
            "_view_count": null,
            "_view_module": "@jupyter-widgets/base",
            "_view_module_version": "1.2.0",
            "_view_name": "StyleView",
            "description_width": ""
          }
        }
      }
    }
  },
  "cells": [
    {
      "cell_type": "code",
      "source": [
        "import warnings\n",
        "\n",
        "import pandas as pd\n",
        "import numpy as np\n",
        "import matplotlib.pyplot as plt\n",
        "\n",
        "from sklearn.feature_selection import SelectKBest, f_classif\n",
        "from sklearn.decomposition import PCA\n",
        "\n",
        "from sklearn.preprocessing import StandardScaler\n",
        "from sklearn.impute import SimpleImputer\n",
        "\n",
        "from sklearn.model_selection import train_test_split, cross_val_predict, cross_val_score\n",
        "from sklearn.metrics import (classification_report, confusion_matrix,\n",
        "                             precision_score, recall_score, f1_score,\n",
        "                             roc_auc_score)\n",
        "\n",
        "from imblearn.over_sampling import SMOTE\n",
        "from imblearn.under_sampling import RandomUnderSampler\n",
        "from imblearn.pipeline import Pipeline\n",
        "\n",
        "import xgboost as xgb\n",
        "\n",
        "warnings.filterwarnings('ignore')"
      ],
      "metadata": {
        "id": "4rX7lEiWgCND"
      },
      "execution_count": 1,
      "outputs": []
    },
    {
      "cell_type": "code",
      "source": [
        "# Load and sample data\n",
        "df = pd.read_feather(\"/content/drive/MyDrive/home_assignment.feather\").sample(frac=0.4)\n",
        "\n",
        "pd.set_option('display.max_columns', None)\n",
        "pd.set_option('display.max_rows', None)"
      ],
      "metadata": {
        "id": "SCr2cO-CsJpc"
      },
      "execution_count": 2,
      "outputs": []
    },
    {
      "cell_type": "markdown",
      "source": [
        "## **Data Preparation**"
      ],
      "metadata": {
        "id": "5JS7m5h4qgak"
      }
    },
    {
      "cell_type": "markdown",
      "source": [
        "### **EDA**"
      ],
      "metadata": {
        "id": "XK7ocGxurXe5"
      }
    },
    {
      "cell_type": "markdown",
      "source": [
        "Let's look at the target variable"
      ],
      "metadata": {
        "id": "yq_8xIKJqo-b"
      }
    },
    {
      "cell_type": "code",
      "source": [
        "# Count the number of values greater than x\n",
        "count_greater_than_x = (df['TLJYWBE'] > 1e-5).sum()\n",
        "\n",
        "# Count the number of values less than x\n",
        "count_less_than_x = (df['TLJYWBE'] < 1e-5).sum()\n",
        "\n",
        "# Count the number of values that are NaN\n",
        "count_na = df['TLJYWBE'].isna().sum()\n",
        "\n",
        "print(f\"Count of values greater than {1e-5}: {count_greater_than_x}\")\n",
        "print(f\"Count of values less than {1e-5}: {count_less_than_x}\")\n",
        "print(f\"Count of nan {1e-5}: {count_na}\")"
      ],
      "metadata": {
        "colab": {
          "base_uri": "https://localhost:8080/"
        },
        "id": "jZ6gm_HihEzG",
        "outputId": "3077a7c8-6f38-452a-b039-5e9f91a7670a"
      },
      "execution_count": 3,
      "outputs": [
        {
          "output_type": "stream",
          "name": "stdout",
          "text": [
            "Count of values greater than 1e-05: 19\n",
            "Count of values less than 1e-05: 283786\n",
            "Count of nan 1e-05: 6710\n"
          ]
        }
      ]
    },
    {
      "cell_type": "markdown",
      "source": [
        "**Create a data report to see the distributions, dtypes and more**"
      ],
      "metadata": {
        "id": "eYPx1izaqtUU"
      }
    },
    {
      "cell_type": "code",
      "source": [
        "from ydata_profiling import ProfileReport\n",
        "\n",
        "# Create a ProfileReport\n",
        "profile = ProfileReport(df_filtered.sample(frac = 0.1), title=\"Pandas Profiling Report\", minimal=True)\n",
        "\n",
        "# Save the report to an HTML file\n",
        "profile.to_file(\"EDA.html\")"
      ],
      "metadata": {
        "colab": {
          "base_uri": "https://localhost:8080/",
          "height": 180,
          "referenced_widgets": [
            "3c0340dbf87146b99864f971ef885a5f",
            "ad453470f8dc44818a161164d781bebb",
            "56a516f59bf5463fa0cf948b31a03851",
            "af979023799c4b818f8cda46b7a93bd8",
            "404b325bb3dd4be1b7c4ebb77c27050d",
            "910fb9e66f094917ba12236494391438",
            "f8d8d0df66be43f88d5a367a735c7677",
            "6e0913b5636842f3a9268c873f05006d",
            "31e7be45e7b5440ebb0cc28c05eed779",
            "46ef519ce50c468ebc697d1745e43fea",
            "1f2ac0cd391e46559aae1a4938435d0e",
            "6963fb71a2cf4da5a920f51c80123944",
            "4b423d077fc54e0e835bdac4f0d89a85",
            "c9f6658ac4a64ffcb6eb144d627d2534",
            "123a16a05171446b8188409ca35a4b31",
            "1abaf7572f884e8ea30661f7c07f93b6",
            "a61b78f42c9a4556959ed809a6550a53",
            "d75b4398f9ea4ad9a4a682ea4d9cd60a",
            "9c4ebfbfe1fb47d090a44c058292c4b0",
            "43f9a0b4349e4270af0fcd71e139b090",
            "5369537306e34c6d8eda5e1102229549",
            "45b71ef1701646ee98c0a8296083f2c0",
            "07ffb4230d994b29a5ecbfe1ee0970ba",
            "9b8767dbe9f34cf4b5bfd5809b87e229",
            "d05ff699983a4948b6feb1afc7c25f4b",
            "f2168222dc3f40908c335b557a0b4724",
            "cbf52b72a1b44faf903a34c42a6497ac",
            "76b05ebfd638439a8196672305d1a880",
            "aea291c4a33444d398b1e4cdc70edfa5",
            "ad87a64cf4b044d6b77c753d0a3e2560",
            "6eb2567839384cebb062ac873610c662",
            "30ebd6c2bd644db1a8506b11e79cde69",
            "9b5bc4a1a08143bc9bdf3e53f9ba2447",
            "dfef6b94466a4f5ba6aefc14be6a4c84",
            "ba751a3cf1ca45cbbaa9bc8b14e7b96d",
            "45737a8fdb154f169380628de63b2d40",
            "c4a3438f1e3e4e62825da8458b365840",
            "e57a96772d43430ea9463510c5dfd10d",
            "360878a0a706489f9cf7c383dc5b8de9",
            "4747a7ff37484cde9a0cb922f441060c",
            "33f566aaf7e444a9ac7b18d32e5793a1",
            "45f867333f094b5d970f053d66f27c0d",
            "3750d8e485db4dd58ed6fade3e45872d",
            "b1052613c0fb4997aac2aedc8070948e"
          ]
        },
        "id": "5aEZ6toytltR",
        "outputId": "29699a46-3de1-4a2e-ec08-4bee0166cfe8"
      },
      "execution_count": null,
      "outputs": [
        {
          "output_type": "stream",
          "name": "stderr",
          "text": [
            "/usr/local/lib/python3.10/dist-packages/ydata_profiling/profile_report.py:363: UserWarning: Try running command: 'pip install --upgrade Pillow' to avoid ValueError\n",
            "  warnings.warn(\n"
          ]
        },
        {
          "output_type": "display_data",
          "data": {
            "text/plain": [
              "Summarize dataset:   0%|          | 0/5 [00:00<?, ?it/s]"
            ],
            "application/vnd.jupyter.widget-view+json": {
              "version_major": 2,
              "version_minor": 0,
              "model_id": "3c0340dbf87146b99864f971ef885a5f"
            }
          },
          "metadata": {}
        },
        {
          "output_type": "display_data",
          "data": {
            "text/plain": [
              "Generate report structure:   0%|          | 0/1 [00:00<?, ?it/s]"
            ],
            "application/vnd.jupyter.widget-view+json": {
              "version_major": 2,
              "version_minor": 0,
              "model_id": "6963fb71a2cf4da5a920f51c80123944"
            }
          },
          "metadata": {}
        },
        {
          "output_type": "display_data",
          "data": {
            "text/plain": [
              "Render HTML:   0%|          | 0/1 [00:00<?, ?it/s]"
            ],
            "application/vnd.jupyter.widget-view+json": {
              "version_major": 2,
              "version_minor": 0,
              "model_id": "07ffb4230d994b29a5ecbfe1ee0970ba"
            }
          },
          "metadata": {}
        },
        {
          "output_type": "display_data",
          "data": {
            "text/plain": [
              "Export report to file:   0%|          | 0/1 [00:00<?, ?it/s]"
            ],
            "application/vnd.jupyter.widget-view+json": {
              "version_major": 2,
              "version_minor": 0,
              "model_id": "dfef6b94466a4f5ba6aefc14be6a4c84"
            }
          },
          "metadata": {}
        }
      ]
    },
    {
      "cell_type": "markdown",
      "source": [
        "### **Data Manipulation**"
      ],
      "metadata": {
        "id": "jjsOFTOzrq-M"
      }
    },
    {
      "cell_type": "markdown",
      "source": [
        "**Try to reduce number of columns - first let's remove columns where we think the model won't learn to much from (e.g where most data is null or constant value)**"
      ],
      "metadata": {
        "id": "qubdahflqz65"
      }
    },
    {
      "cell_type": "code",
      "source": [
        "# Identify columns where NaN/nulls makes up more than 70% of the data\n",
        "null_dominated_columns = [col for col in df.columns if df[col].isna().mean() > 0.70]\n",
        "nan_dominated_columns = [col for col in df.columns if df[col].isnull().mean() > 0.70]\n",
        "\n",
        "# Identify columns where 0 makes up more than 70% of the data\n",
        "zero_dominated_columns = [col for col in df.columns if (df[col] == 0).mean() > 0.70]\n",
        "\n",
        "# Identify columns with 1 dominate value\n",
        "value_dominated_columns = [col for col in df.columns if df[col].value_counts(normalize=True).max() > 0.9]\n",
        "\n",
        "columns_to_drop = list(set(value_dominated_columns + zero_dominated_columns + nan_dominated_columns))\n",
        "\n",
        "# Drop these columns from the DataFrame\n",
        "df_filtered = df.drop(columns=columns_to_drop)\n",
        "\n",
        "# Display the columns that were dropped\n",
        "print(f\"Columns with constant values or dominated by zeros: {columns_to_drop}\")\n",
        "print(f\"Original shape: {df.shape}\")\n",
        "print(f\"Reduced shape: {df_filtered.shape}\")"
      ],
      "metadata": {
        "id": "ju7qDUjxsr9N",
        "colab": {
          "base_uri": "https://localhost:8080/"
        },
        "outputId": "46b94cac-63dd-4522-f5da-f60f2c120245"
      },
      "execution_count": 4,
      "outputs": [
        {
          "output_type": "stream",
          "name": "stdout",
          "text": [
            "Columns with constant values or dominated by zeros: ['CYGFXWC', 'DLWYUSK', 'HLUJJDC', 'SHAHZCX', 'VRXSNDL', 'YEZPLBM', 'HFHITLP', 'ZMOCACF', 'ZAIRSDG', 'SWMNPFK', 'OELFGBD', 'KVNLYTZ', 'FRICEIH', 'KDIATNL', 'MRDZBFN', 'IJTGMGJ', 'PBZEGCA', 'XUCVAEV', 'FJXWXPI', 'OELGKKQ', 'BKAHOMJ', 'UGFBHFI', 'NMCAKWK', 'TQSLCKT', 'JWJHZJJ', 'THFGWMH', 'FJCYMJD', 'PKCUSYS', 'EYAUITY', 'HOAJWUR', 'KCVNCWE', 'VUBFVUN', 'FRPZZAO', 'TNLTITB', 'FYWFJXP', 'PTGZANY', 'EJLLSVL', 'WTARSLQ', 'EBEXNTO', 'RHCAZIU', 'RQTEIMY', 'QNIBUZZ', 'IPLONQP', 'MAODOCR', 'WHWNSMK', 'NOIYREE', 'ALVJYOA', 'AQYGYOE', 'NMWUWJL', 'UBMPCGB', 'XQJKMDS', 'SHLZRCB', 'XXIPGDP', 'HTMOHRO', 'KKKSVYN', 'AHMUWMD', 'BTEYMSX', 'CJICMVV', 'WSTYRNH', 'MPRIFAX', 'LEVGOPF', 'DRELDXX', 'ADOIOYN', 'MKGQLST', 'IMAZODZ', 'CPZMPBY', 'ZSCIZXU', 'WSRRROM', 'FSBLFRV', 'LNZGNNA', 'TDMCRGU', 'JYNEQWD', 'MUEKGHC', 'FIGZKCY', 'LYCIQTI', 'WCYWJXK', 'RGDZIYI', 'SHEGNUT', 'YPMGCVT', 'BBMREOD', 'GJFZDWF', 'XZSIRUV', 'OPYOPFC', 'MZUTRGY', 'AUNDDNZ', 'BXBUVRU', 'UIDFQDA', 'NYFXQAP', 'BZRZXSR', 'OOBREVT', 'CPFOOLV', 'FKCIOEN', 'TMSJMYI', 'ZHPRSBN', 'OQCUPZO', 'IJEXXXL', 'FIJMBVX', 'TKXCHYD', 'ELXUMTI', 'TWTFEPM', 'HGONGZK', 'HGCJPXQ', 'MMGUYQW', 'NJFNKOX', 'QXTPTQN', 'VLOHNYE', 'EAZAMWH', 'UMIGGHZ', 'GNJJUIH', 'YXRYJNT', 'VHLPUWU', 'RONTGKG', 'VXZZORS', 'BDABVCY', 'FBDGIUT', 'XJTQVGI', 'XTPPJMK', 'TWXNMUD', 'YTYOTNN', 'ZQMONHC', 'FBTIPCA', 'QVZRENP', 'KAHHGFH', 'VMYGDBS', 'TOTBAZC', 'ILHBFRB', 'HNJMSWN', 'KXGNEZR', 'PGENXWU', 'BBVGXMU', 'TXEIVQY', 'HTTHEYH', 'IYFABDO', 'ABMWXIO', 'JRVGHMH', 'FGRQLRJ', 'KWGZVQN', 'KHDGXRJ', 'IJOSAYZ', 'OBFPKIQ', 'MKVXAUF', 'PATWSZC', 'OLOIPWS', 'UZXVNSW', 'EHAPOTE', 'LVBGDZB', 'RQVRYXC', 'MSJJKBM', 'OYBONYX', 'CNECOOI', 'QHIQJKY', 'BTDJSVV', 'OAEOBHM', 'MSVWNFK', 'VWPFOKV', 'VFXXPOM', 'AKRJZVC', 'CUULBWE', 'GTKQUGU', 'USAETVU', 'LDVYKSE', 'VUTOMKG', 'WCZJBOX', 'BFYTKKS', 'RNCEKOH', 'SRDJVGB', 'QRYQRQW', 'XKLWARB', 'XRUUCHW', 'FFRECAD', 'TQZKVZQ', 'FZHCPXN', 'LNGBURD', 'WWHSAAX', 'LGRGANO', 'SIJOOGR', 'LJGDTWM', 'JEQWBOK', 'CRYLNZI', 'FMWCHDN', 'PCIXTYP', 'SZWWWHI', 'IQOCYUU', 'WYYWAWQ', 'PINNYVT', 'CHBMNEK', 'VDOFXVB', 'EWKETJA', 'XRUSUCA', 'ILGYBTA', 'LWFSOBB', 'KKMOSNN', 'AJOFIZJ', 'TERIJOV', 'RLHGEVY', 'UANVOYU', 'VXQLENI', 'AXVFXOV', 'ZBSCEOT', 'ERXNSUN', 'OJSWUAF', 'XIVOAXI', 'YLYAAGH', 'HNDGNRG', 'HGWWOZY', 'KRMCXMU', 'QGKAEUF', 'BADESAP', 'HVHDNTE', 'JZVNCXT', 'KVOYKGE', 'EIQECLF', 'MOYGMAB', 'TGXFVBT', 'GPCKISJ', 'YEPIWSP', 'GGNNDQY', 'BADTSBX', 'WPJXHBR', 'BQEDTSY', 'KNYSSTU', 'UWFUPRN', 'QTIPFME', 'BQLHRUO', 'WMZGUWK', 'OPLXQJS', 'WTVBKCK', 'XZJYNXP', 'BGYZPRZ', 'ABKUZXQ', 'TUIWOPA', 'LVDPQQT', 'OETLBRB', 'NEKQCXA', 'CDSPXSX']\n",
            "Original shape: (290515, 881)\n",
            "Reduced shape: (290515, 646)\n"
          ]
        }
      ]
    },
    {
      "cell_type": "markdown",
      "source": [
        "**Transform all columns to numerical dtype (as they are all numerical but pd detected them as 'object' due to nans)**"
      ],
      "metadata": {
        "id": "EJcf5FXptAqj"
      }
    },
    {
      "cell_type": "code",
      "source": [
        "# True/False values will become 1/0\n",
        "df_filtered = df_filtered.applymap(lambda x: 1 if x is True else (0 if x is False else x))\n",
        "\n",
        "# Object types will transform to numerical types\n",
        "df_filtered = df_filtered.apply(pd.to_numeric, errors='coerce')"
      ],
      "metadata": {
        "id": "qzunpyc9FzZL"
      },
      "execution_count": 6,
      "outputs": []
    },
    {
      "cell_type": "markdown",
      "source": [
        "**I want to check the columns I removed and if they are corr witht he target variable - is so, I will reinstate those who are highly correleted**"
      ],
      "metadata": {
        "id": "pFiLHPWArEQx"
      }
    },
    {
      "cell_type": "code",
      "source": [
        "# Recheck correlations\n",
        "dropped_columns_df = df[columns_to_drop]\n",
        "correlations = dropped_columns_df.corrwith(df['TLJYWBE'])\n",
        "\n",
        "# filter only correlations above a certain threshold (e.g., |0.1|)\n",
        "significant_correlations = correlations[abs(correlations) > 0.1]\n",
        "\n",
        "print(\"Columns with significant correlation with the outcome:\")\n",
        "print(significant_correlations)"
      ],
      "metadata": {
        "collapsed": true,
        "id": "jwvJwwM6BtJL"
      },
      "execution_count": null,
      "outputs": []
    },
    {
      "cell_type": "markdown",
      "source": [
        "**I found that  *'LNZGNNA'*, *'YTYOTNN'* and *'KWGZVQN'* are corr with the target variable so I decide to include them back: the model might pick on the relashionship to make better predictions**"
      ],
      "metadata": {
        "id": "n5eUKXu_rPx5"
      }
    },
    {
      "cell_type": "code",
      "source": [
        "# Reinclude significant columns\n",
        "exclude_columns = ['LNZGNNA', 'YTYOTNN', 'KWGZVQN']\n",
        "columns_to_drop = [col for col in columns_to_drop if col not in exclude_columns]\n",
        "df_filtered = df.drop(columns=columns_to_drop)\n",
        "print(f\"Columns retained: {exclude_columns}\")\n",
        "print(f\"Original shape: {df.shape}\")\n",
        "print(f\"Reduced shape: {df_filtered.shape}\")"
      ],
      "metadata": {
        "colab": {
          "base_uri": "https://localhost:8080/"
        },
        "id": "o3snl0CxFQ57",
        "outputId": "7e7e8497-4501-41b3-ab0d-25ad1bf06c0e"
      },
      "execution_count": 5,
      "outputs": [
        {
          "output_type": "stream",
          "name": "stdout",
          "text": [
            "Columns retained: ['LNZGNNA', 'YTYOTNN', 'KWGZVQN']\n",
            "Original shape: (290515, 881)\n",
            "Reduced shape: (290515, 649)\n"
          ]
        }
      ]
    },
    {
      "cell_type": "markdown",
      "source": [
        "**Next step to reduce number of columns is to removed highly correleted columnes (I have set a threshold of 0.9) - the idea is that if we have 2 corr columns then one is enought the learn from, and most likly the other won't share new information to the model.**"
      ],
      "metadata": {
        "id": "FEvKQOvEi0Wf"
      }
    },
    {
      "cell_type": "code",
      "source": [
        "del(df)"
      ],
      "metadata": {
        "id": "sSQYpV1cA2uW"
      },
      "execution_count": 7,
      "outputs": []
    },
    {
      "cell_type": "code",
      "source": [
        "# I use a sample of the numeric data for correlation matrix due to memory issues\n",
        "correlation_matrix = df_filtered.sample(frac=0.5).corr()\n",
        "\n",
        "# I set a high threshold for correlation to be cautious\n",
        "threshold = 0.9\n",
        "\n",
        "# Identify feature pairs with correlation higher than the threshold\n",
        "high_correlation = correlation_matrix[(correlation_matrix > threshold) & (correlation_matrix != 1.0)]\n",
        "\n",
        "# Find the column pairs\n",
        "correlated_features = high_correlation.stack().reset_index()\n",
        "correlated_features.columns = ['Feature1', 'Feature2', 'Correlation']\n",
        "\n",
        "columns_to_drop = set()\n",
        "\n",
        "# Iterate over the pairs and add one of the highly correlated columns to the drop list\n",
        "for feature1, feature2, _ in correlated_features.values:\n",
        "    columns_to_drop.add(feature2)\n",
        "\n",
        "columns_to_drop = list(columns_to_drop)\n",
        "\n",
        "# Drop the highly correlated columns from the DataFrame\n",
        "df_reduced = df_filtered.drop(columns=columns_to_drop)\n",
        "\n",
        "print(f\"Columns dropped due to high correlation: {columns_to_drop}\")\n",
        "print(f\"Original shape: {df_filtered.shape}\")\n",
        "print(f\"Reduced shape: {df_reduced.shape}\")"
      ],
      "metadata": {
        "colab": {
          "base_uri": "https://localhost:8080/"
        },
        "id": "xXHWanIF-2AM",
        "outputId": "a9601293-80a1-487c-94d0-e32f77791212"
      },
      "execution_count": 8,
      "outputs": [
        {
          "output_type": "stream",
          "name": "stdout",
          "text": [
            "Columns dropped due to high correlation: ['UHMRZHI', 'RLWEKLY', 'XQGPAIG', 'QVSCEFJ', 'XNHNHIK', 'ULYIQYO', 'NTJRVGR', 'EULURHL', 'NRZNVUW', 'JORKKSF', 'EJMEHVK', 'YLHQTEA', 'UILLRWJ', 'WIWNVTH', 'LGVRVXB', 'JMPVBOV', 'SLHDFLB', 'RHSKKTW', 'XMVIFQS', 'TPYJDFW', 'UJYQCMY', 'NOLZTQY', 'UGXVMKE', 'SBUETBP', 'FAIOOOV', 'GYFZSXY', 'LTZYUVU', 'AWMGPPL', 'LKFNGDB', 'EOBUBXA', 'AUSDIEL', 'TLOEEZC', 'LNZGNNA', 'DTJITAO', 'KKFJKFD', 'YVAAWCN', 'LQEHWDR', 'ONKWSSO', 'EJCYPQQ', 'SPKCFPP', 'LLOQQSF', 'RCJONFW', 'BQLPPBV', 'KEJOIIS', 'HGHMTVH', 'EBWHZXL', 'RFVSOEI', 'KYRXYOZ', 'AIKOJYC', 'JQXEEPS', 'LNWVWPK', 'EDASGHM', 'FUTFIRO', 'CQZHXYY', 'BGPVFMN', 'DDZYPGM', 'LCXZSFV', 'TBFLCFW', 'WTCICYP', 'MQXCIBE', 'VJNUBJX', 'FLYIGDN', 'WWVGPWZ', 'CKTRRMV', 'OPBTWFJ', 'RIEGYBR', 'LADIFWP', 'QWGVMUQ', 'GVJTVXV', 'ZYOBVQN', 'ETSCGYD', 'TKNRHFX', 'XWIRHVW', 'NYRKOCF', 'GBGZJZO', 'LLHXSPF', 'YCJYNVQ', 'IMTAJAV', 'UZGUYFK', 'AHDJJHN', 'CWDFMGH', 'STMKCSJ', 'IKMWIOV', 'ZXTCPRN', 'SOLTBDE', 'AHBBVON', 'ZYMCRAL', 'KRFHHDX', 'OKIKPOJ', 'XEUMIIT', 'HBCMCGN', 'LTDFQFZ', 'XIKNUBQ', 'YIDCRAN', 'CHWVXPB', 'REQAQFJ', 'CMSGVTL', 'RCVCFXR', 'BGEQHWR', 'VTLKBMI', 'MIIVLBT', 'CXQMCRY', 'HDNPBLR', 'ODXOWHT', 'RXLZZHO', 'RZPQSGM', 'KMEKHII', 'VRNGUZU', 'WLFAYHX', 'POPBDDN', 'HOVFLAR', 'BTKTNSN', 'QKXDWEZ', 'GUEUYTS', 'HTRZKGZ', 'HSCCVTR', 'ACVSDTK', 'HNXONUF', 'MNWQYTP', 'ZUEEBTY', 'DVSZBLN', 'FVFVALZ', 'SJZKEVZ', 'PJWUWBJ', 'NGUTDOX', 'BZFTTYE', 'GRYCMJK', 'XIRNYHK', 'VTMSCPQ', 'JZJOQOG', 'LTCKGYN', 'PWRCZZP', 'DTSZUFG', 'ZIWVRVM', 'PRVIFOQ', 'OUIMKJU', 'DVRDHUH', 'QVOHUMP', 'DCDCWXQ', 'OOASVXJ', 'NUTXJCG', 'BBVLSAK', 'FWGTLEW', 'CJMPQXT', 'KGPPPLD', 'VOYPYYV', 'LCFCVCB', 'XLVHGLO', 'MOSECGI', 'AEXRRBM', 'ARVLGNZ', 'IFZDTPK', 'NQYIWSN', 'LUYUPBB', 'WCHWYUP', 'OXRCIYW', 'FCMPHJR', 'PCYIKPD', 'CFAIUJQ', 'PZYGETW', 'MXNLYUW', 'KWGZVQN', 'QYDTWHL', 'WTMETCB', 'OOXHPWM', 'LCWSCVA', 'JKILSTV', 'SKKXRWR', 'CBNASKU', 'QJXZQSD', 'GGTSHYD', 'BUVBEYO', 'KXISVUL', 'TFWEIKV', 'QWVFRRZ', 'ZPBDTHO', 'NVITMSQ', 'PDWQQDP', 'SMHHBFH', 'SFTKCKG', 'VMHLOFU', 'IPRULOU', 'PHWLHGO', 'JNYELDJ', 'DPPXTGF', 'VCPMKTP', 'XPCRCSI', 'JULDEHH', 'NRKKRBK', 'UCXNWDN', 'NRUIVJF', 'HFYZKSZ', 'GOBJALH', 'QJKCJMC', 'FTMZZVG', 'JNEVNAR', 'HPCWOKU', 'VCSGLFK', 'VEUJYWN', 'YBBDEJH', 'INLEXOC', 'TPUASCQ', 'MKHJGMF', 'QDZIZBN', 'WPYBJPG', 'MMXPDHL', 'TBGAWDK', 'QALTYYP', 'LJWUXOV', 'SMOGFZD', 'HHSFOPV', 'HIPZTCK', 'YBAGZDV', 'RTYTHAC', 'GPSLGET', 'LZIQISI', 'JMFGDPB', 'ZUMBXNE', 'FNCZPLL', 'DUOKWOI', 'HHWCKEO', 'HCSXZKW', 'WVRSHBW', 'ZHFQXTN', 'HIFPGGQ', 'DGVMUBH', 'SETVSTN', 'WSCCCVK', 'GKACPXS', 'LVMHJCI', 'ZWBKTXW', 'FTFSHCI', 'KFDAVVI', 'QASZGHA', 'BTXMHGA', 'VYTOISY', 'EBCCQTL', 'MDBYIRV', 'NGIJPET', 'SDEUDHY', 'OULTOYT', 'JGSHLSI', 'HWKCDPO', 'LTRIIBH', 'TXVCNZC', 'OENIIAU', 'ETXKSTM', 'RTVQHPO', 'PVYZFWG', 'JIQIQWD', 'SHXMZYS', 'LTUMCBQ', 'EYARVDG', 'GQHLWWM', 'PFFFNMW', 'YRLOEIR', 'KMGNWGY', 'MNRQQJW', 'RLYWHCU', 'JWXNCNT', 'WBBKQFH', 'UWOLTWR', 'HXBFDMA', 'NFRPIGQ', 'SQODRRP', 'ZZTPIJA', 'JIOWSAX', 'NSERJIK', 'USEHIHH', 'DAEPCOR', 'WBCMBKW', 'ZSGPKXD', 'UOGNHSF', 'RAGOFAC', 'CNGIUEP', 'INJPVHJ', 'JGXPQNV', 'QRTDBHR', 'UDQKCAP', 'UTZNPAJ', 'EYILHOU', 'CMACFHX', 'JZFIGSE', 'OFEEPAC', 'DZZXXVG', 'JYSKSPX', 'LCAOHWW', 'SHBNDLU', 'AVSMOFQ', 'BGHDMAS', 'XWQPLHB', 'IWHIYNA', 'DXWRFDA', 'XLHIYUD', 'ALDDXXN', 'AWJPBPO', 'MSAHYEA', 'FAPNOHE', 'ZCRFMLI', 'VSPXQWL', 'VSXTBCN', 'CWWUCQG', 'LZBJHYC', 'OMPWYAA', 'EKTAHFF', 'VKTZZSI', 'TKQUNLP', 'AGTCLZR', 'YKMYFOT', 'DNHHKRL', 'FUUJDZI', 'RMVEJRV', 'UNFEABR', 'FXACWUA', 'QXYDOGR', 'VYQUVQJ', 'JKCFMAY', 'BHSHCHU', 'XIITBEU', 'QZOMJMJ', 'DNXCPJX', 'RRMMRAJ', 'JHQKHHL', 'FMPLUQF', 'EMIXPGQ', 'OGYQNUB', 'KPZEEJR', 'SEWCJZQ', 'SYJXQKZ', 'ULCBNOU', 'TZNKMJP', 'WELMYWE', 'DITVBVV', 'NFZEWMH', 'RCJGZLT', 'NLRRCWZ', 'LGXZTHS', 'SUPWXYD', 'DDPBVDN', 'KGJACPV', 'SRQKQTX', 'HEBFRRA', 'YWXXBRX', 'DMTXDGF', 'NAWMDDT', 'IIYLALO', 'PJLETFT', 'XOGKHIO', 'NVBZJEU', 'VFXSABJ', 'DJANPLY', 'FUPIOHC', 'ZYMFJDH', 'PSXOLCG', 'OSFOBBT', 'LOGULZS', 'BZYFPMM', 'VAGMJKH', 'WTFITDY', 'ISLNVVQ', 'KUXSPYJ', 'VOHXBZJ', 'LFATORD', 'GPDXQZO', 'UFUYDJX', 'KYJTYYF', 'OOVNYOI', 'MRUWBZT', 'ADXRLFT', 'LPKKAWN', 'EEGYIGX', 'BFVUEAT', 'CKBVBUJ', 'JEKQIKE', 'FBBFYZM', 'FFJOGRA', 'GVDVKJH', 'GZGWPXA', 'BYEQVGG', 'VPAZKWG', 'MOGJHYG', 'LXQDRSD', 'JZQULTU', 'YUTIXNM', 'QODSZMV', 'WHHQYVO', 'OGIHHVJ', 'UAEETIT', 'WGQRBHJ', 'MRBOALK', 'RMSJZUV', 'MWHYOSB', 'IJRFPEK', 'DEAUOMN', 'XJMDTQG', 'VEOALEL', 'KPQSPBC', 'PYGQGOY', 'OISOEYC', 'HPIXBEZ', 'LFVWFTF', 'IUCJIOI', 'WZZGTQB', 'WLULXFN', 'GRBGIZR', 'HGXUJOI', 'NYWUAUO', 'ZYDCHBB', 'JTIJWNL', 'HCBDBBS', 'NGVHWDO', 'UZIGIGC']\n",
            "Original shape: (290515, 649)\n",
            "Reduced shape: (290515, 237)\n"
          ]
        }
      ]
    },
    {
      "cell_type": "code",
      "source": [
        "# Creat the binary label\n",
        "df_reduced = df_reduced.dropna(subset=['TLJYWBE']).reset_index(drop=True)\n",
        "df_reduced['TLJYWBE_results'] = df_reduced['TLJYWBE'].apply(lambda x: 1 if x < 1e-5 else 0)"
      ],
      "metadata": {
        "id": "ScLB4RiJnH8x"
      },
      "execution_count": 9,
      "outputs": []
    },
    {
      "cell_type": "markdown",
      "source": [
        "## **Model Selection and Optimization**\n",
        "We droppped the number of columns from 649 to 239, but it's still quite a lot.\n",
        "I will suggest 2 techniques and will evalute the model with each:\n",
        "1. **Feature Selection** - Select the K \"best\" features - meaning, features that have high score with the target variable. I chose to calc the score based on ANOVA F-value between label and feature.\n",
        "\n",
        "2. **PCA** - Reduce dimensionality by transforming features into a set of linearly uncorrelated components\n",
        "\n",
        "**XGB Model** - I choose to train XGB Classifier (since we want to predict pass/fail)"
      ],
      "metadata": {
        "id": "enAYdYXyjl03"
      }
    },
    {
      "cell_type": "markdown",
      "source": [
        "###**Determining Optimal Number of PCA Components**\n",
        "\n",
        "Running the model to identify the best n_components for PCA."
      ],
      "metadata": {
        "id": "YeZtS162-TNY"
      }
    },
    {
      "cell_type": "code",
      "source": [
        "# Range for the number of PCA components\n",
        "num_components_range = [66, 80, 100, 150]\n",
        "\n",
        "scores = []\n",
        "confusion_matrices = []\n",
        "aucs = []\n",
        "classification_reports = []\n",
        "\n",
        "# Defining X and y\n",
        "X = df_reduced.drop(['TLJYWBE', 'TLJYWBE_results'], axis=1).values\n",
        "y = df_reduced['TLJYWBE_results'].values\n",
        "\n",
        "for num_components in num_components_range:\n",
        "    # Pipeline with imputation, scaling, PCA, resampling, and model\n",
        "    pipeline = Pipeline([\n",
        "        ('imputer', SimpleImputer(strategy='mean')),\n",
        "        ('scaler', StandardScaler()),\n",
        "        ('pca', PCA(n_components=num_components)),\n",
        "        ('downsampling', RandomUnderSampler(sampling_strategy=0.1, random_state=42)),\n",
        "        ('upsampling', SMOTE(random_state=42)),\n",
        "        ('classifier', xgb.XGBClassifier(\n",
        "            eval_metric='logloss',\n",
        "            use_label_encoder=False,\n",
        "            random_state=42\n",
        "        ))\n",
        "    ])\n",
        "\n",
        "    # Cross-validation\n",
        "    y_pred = cross_val_predict(pipeline, X, y, cv=5, method='predict')\n",
        "    y_pred_proba = cross_val_predict(pipeline, X, y, cv=5, method='predict_proba')[:, 1]\n",
        "\n",
        "    # Evaluate performance\n",
        "    score = cross_val_score(pipeline, X, y, cv=5).mean()\n",
        "    confusion_mtx = confusion_matrix(y, y_pred)\n",
        "    auc = roc_auc_score(y, y_pred_proba)\n",
        "    report = classification_report(y, y_pred, output_dict=True)\n",
        "\n",
        "    scores.append(score)\n",
        "    confusion_matrices.append(confusion_mtx)\n",
        "    aucs.append(auc)\n",
        "    classification_reports.append(report)\n",
        "\n",
        "# Plot of cross-validation scores\n",
        "plt.figure(figsize=(12, 8))\n",
        "\n",
        "plt.subplot(2, 2, 1)\n",
        "plt.plot(num_components_range, scores, marker='o')\n",
        "plt.title('Model Performance vs. Number of Components')\n",
        "plt.xlabel('Number of Components')\n",
        "plt.ylabel('Cross-Validation Score')\n",
        "plt.grid()\n",
        "\n",
        "# Plot of AUC scores\n",
        "plt.subplot(2, 2, 2)\n",
        "plt.plot(num_components_range, aucs, marker='o')\n",
        "plt.title('AUC vs. Number of Components')\n",
        "plt.xlabel('Number of Components')\n",
        "plt.ylabel('AUC')\n",
        "plt.grid()\n",
        "\n",
        "plt.show()\n",
        "\n",
        "for num_components, confusion_mtx, auc, report in zip(num_components_range, confusion_matrices, aucs, classification_reports):\n",
        "    print(f'Number of Components: {num_components}')\n",
        "    print('Confusion Matrix:')\n",
        "    print(confusion_mtx)\n",
        "    print(f'AUC: {auc:.4f}')\n",
        "    print('Classification Report:')\n",
        "    for label, metrics in report.items():\n",
        "        if isinstance(metrics, dict):\n",
        "            print(f\"Class {label}: Precision: {metrics['precision']:.4f}, Recall: {metrics['recall']:.4f}, F1 Score: {metrics['f1-score']:.4f}\")"
      ],
      "metadata": {
        "colab": {
          "base_uri": "https://localhost:8080/",
          "height": 382
        },
        "id": "CDdmgtbWspAc",
        "outputId": "fe8cf59d-877e-418f-b0a6-5b942672d1ca"
      },
      "execution_count": 12,
      "outputs": [
        {
          "output_type": "display_data",
          "data": {
            "text/plain": [
              "<Figure size 1200x800 with 2 Axes>"
            ],
            "image/png": "[encoded data removed]"
          },
          "metadata": {}
        }
      ]
    },
    {
      "cell_type": "code",
      "source": [
        "# Print the detailed classification reports\n",
        "for num_components, confusion_mtx, auc, report in zip(num_components_range, confusion_matrices, aucs, classification_reports):\n",
        "    print(f'Number of Components: {num_components}')\n",
        "    print('Confusion Matrix:')\n",
        "    print(confusion_mtx)\n",
        "    print(f'AUC: {auc:.4f}')\n",
        "    print('Classification Report:')\n",
        "    for label, metrics in report.items():\n",
        "        if isinstance(metrics, dict):\n",
        "            print(f\"Class {label}: Precision: {metrics['precision']:.4f}, Recall: {metrics['recall']:.4f}, F1 Score: {metrics['f1-score']:.4f}\")"
      ],
      "metadata": {
        "colab": {
          "base_uri": "https://localhost:8080/"
        },
        "id": "Arj6NYhZ2Jx4",
        "outputId": "02eada51-8461-4856-be25-57349eb1a86e"
      },
      "execution_count": 14,
      "outputs": [
        {
          "output_type": "stream",
          "name": "stdout",
          "text": [
            "Number of Components: 66\n",
            "Confusion Matrix:\n",
            "[[    16     19]\n",
            " [ 10083 273707]]\n",
            "AUC: 0.8515\n",
            "Classification Report:\n",
            "Class 0: Precision: 0.0016, Recall: 0.4571, F1 Score: 0.0032\n",
            "Class 1: Precision: 0.9999, Recall: 0.9645, F1 Score: 0.9819\n",
            "Class macro avg: Precision: 0.5008, Recall: 0.7108, F1 Score: 0.4925\n",
            "Class weighted avg: Precision: 0.9998, Recall: 0.9644, F1 Score: 0.9818\n",
            "Number of Components: 80\n",
            "Confusion Matrix:\n",
            "[[    16     19]\n",
            " [  8771 275019]]\n",
            "AUC: 0.8985\n",
            "Classification Report:\n",
            "Class 0: Precision: 0.0018, Recall: 0.4571, F1 Score: 0.0036\n",
            "Class 1: Precision: 0.9999, Recall: 0.9691, F1 Score: 0.9843\n",
            "Class macro avg: Precision: 0.5009, Recall: 0.7131, F1 Score: 0.4939\n",
            "Class weighted avg: Precision: 0.9998, Recall: 0.9690, F1 Score: 0.9841\n",
            "Number of Components: 100\n",
            "Confusion Matrix:\n",
            "[[    14     21]\n",
            " [  8022 275768]]\n",
            "AUC: 0.8682\n",
            "Classification Report:\n",
            "Class 0: Precision: 0.0017, Recall: 0.4000, F1 Score: 0.0035\n",
            "Class 1: Precision: 0.9999, Recall: 0.9717, F1 Score: 0.9856\n",
            "Class macro avg: Precision: 0.5008, Recall: 0.6859, F1 Score: 0.4945\n",
            "Class weighted avg: Precision: 0.9998, Recall: 0.9717, F1 Score: 0.9855\n",
            "Number of Components: 150\n",
            "Confusion Matrix:\n",
            "[[    14     21]\n",
            " [  7537 276253]]\n",
            "AUC: 0.8930\n",
            "Classification Report:\n",
            "Class 0: Precision: 0.0019, Recall: 0.4000, F1 Score: 0.0037\n",
            "Class 1: Precision: 0.9999, Recall: 0.9734, F1 Score: 0.9865\n",
            "Class macro avg: Precision: 0.5009, Recall: 0.6867, F1 Score: 0.4951\n",
            "Class weighted avg: Precision: 0.9998, Recall: 0.9734, F1 Score: 0.9864\n"
          ]
        }
      ]
    },
    {
      "cell_type": "markdown",
      "source": [
        "###**Strategy Comparison: PCA vs. SelectKBest & Resampling**\n",
        "\n",
        "After finding optimal num_components for PCA, I will evaluating different strategies to determine the most effective approach (PCA vs. SelectKBest, with or without resampling)."
      ],
      "metadata": {
        "id": "DVKt4H5E-kj3"
      }
    },
    {
      "cell_type": "code",
      "source": [
        "from sklearn.model_selection import StratifiedKFold\n",
        "from sklearn.metrics import roc_auc_score, classification_report\n",
        "\n",
        "\n",
        "# Strategies\n",
        "strategies = {}\n",
        "\n",
        "# Strategy 1: PCA(150) + Resampling\n",
        "strategies['PCA(150) + Resampling'] = Pipeline([\n",
        "    ('imputer', SimpleImputer(strategy='mean')),\n",
        "    ('scaler',  StandardScaler()),\n",
        "    ('pca', PCA(n_components=150)),\n",
        "    # ('downsampling', RandomUnderSampler(sampling_strategy=0.1, random_state=42)),\n",
        "    ('upsampling', SMOTE(random_state=42)),\n",
        "    ('classifier', xgb.XGBClassifier(eval_metric='logloss', use_label_encoder=False, random_state=42))\n",
        "])\n",
        "\n",
        "# Strategy 2: PCA(150) without Resampling\n",
        "strategies['PCA(150) without Resampling'] = Pipeline([\n",
        "    ('imputer', SimpleImputer(strategy='mean')),\n",
        "    ('scaler',  StandardScaler()),\n",
        "    ('pca', PCA(n_components=150)),\n",
        "    ('classifier', xgb.XGBClassifier(eval_metric='logloss', use_label_encoder=False, random_state=42))\n",
        "])\n",
        "\n",
        "# Strategy 3: Feature Selection + Resampling\n",
        "strategies['Feature Selection + Resampling'] = Pipeline([\n",
        "    ('imputer', SimpleImputer(strategy='mean')),\n",
        "    ('feature_selection', SelectKBest(score_func=f_classif, k=100)),  # Adjust k as needed\n",
        "    # ('downsampling', RandomUnderSampler(sampling_strategy=0.1, random_state=42)),\n",
        "    ('upsampling', SMOTE(random_state=42)),\n",
        "    ('classifier', xgb.XGBClassifier(eval_metric='logloss', use_label_encoder=False, random_state=42))\n",
        "])\n",
        "\n",
        "# Strategy 4: Feature Selection without Resampling\n",
        "strategies['Feature Selection without Resampling'] = Pipeline([\n",
        "    ('imputer', SimpleImputer(strategy='mean')),\n",
        "    ('feature_selection', SelectKBest(score_func=f_classif, k=100)),  # Adjust k as needed\n",
        "    ('classifier', xgb.XGBClassifier(eval_metric='logloss', use_label_encoder=False, random_state=42))\n",
        "])\n",
        "\n",
        "# Custom cross-validation loop due to need to re-calc scale_pos_weight for each fold\n",
        "cv = StratifiedKFold(n_splits=5, shuffle=True, random_state=42)\n",
        "scores = {}\n",
        "\n",
        "for strategy_name, pipeline in strategies.items():\n",
        "    print(f\"Evaluating {strategy_name}...\")\n",
        "\n",
        "    aucs, reports, mean_scores = [], [], []\n",
        "    cumulative_report = None\n",
        "\n",
        "    for train_idx, test_idx in cv.split(X, y):\n",
        "        X_train, X_val = X[train_idx], X[test_idx]\n",
        "        y_train, y_val = y[train_idx], y[test_idx]\n",
        "\n",
        "        # Recalculate scale_pos_weight for this fold\n",
        "        class_counts = pd.Series(y_train).value_counts()\n",
        "        scale_pos_weight = class_counts[0] / class_counts[1]\n",
        "\n",
        "        # Update the classifier's scale_pos_weight (will affect mostly when there is no re-sampling)\n",
        "        if 'scale_pos_weight' in pipeline.named_steps['classifier'].get_params():\n",
        "            pipeline.named_steps['classifier'].set_params(scale_pos_weight=scale_pos_weight)\n",
        "\n",
        "        pipeline.fit(X_train, y_train)\n",
        "        y_pred = pipeline.predict(X_val)\n",
        "        y_pred_proba = pipeline.predict_proba(X_val)[:, 1]\n",
        "\n",
        "        aucs.append(roc_auc_score(y_val, y_pred_proba))\n",
        "        mean_scores.append(pipeline.score(X_val, y_val))\n",
        "\n",
        "        report = classification_report(y_val, y_pred, output_dict=True)\n",
        "\n",
        "        # Accumulate the classification report\n",
        "        if cumulative_report is None:\n",
        "            cumulative_report = report\n",
        "        else:\n",
        "            for key in report.keys():\n",
        "                if isinstance(report[key], dict):  # Only iterate over metrics, not overall average values\n",
        "                    for metric in report[key]:\n",
        "                        cumulative_report[key][metric] += report[key][metric]\n",
        "\n",
        "    # Average the accumulated report metrics\n",
        "    for key in cumulative_report.keys():\n",
        "        if isinstance(cumulative_report[key], dict):  # Only average the metrics, not overall average values\n",
        "            for metric in cumulative_report[key]:\n",
        "                cumulative_report[key][metric] /= cv.get_n_splits()\n",
        "\n",
        "    scores[strategy_name] = {\n",
        "        'score': np.mean(mean_scores),\n",
        "        'auc': np.mean(aucs),\n",
        "        'report': cumulative_report\n",
        "    }\n",
        "\n",
        "\n",
        "# Display results\n",
        "for strategy_name, metrics in scores.items():\n",
        "    print(f\"\\nStrategy: {strategy_name}\")\n",
        "    print(f\"Mean CV Score: {metrics['score']:.4f}\")\n",
        "    print(f\"AUC: {metrics['auc']:.4f}\")\n",
        "    print(\"Classification Report for Class 0:\")\n",
        "    print(f\"Precision: {metrics['report']['0']['precision']:.4f}\")\n",
        "    print(f\"Recall: {metrics['report']['0']['recall']:.4f}\")\n",
        "    print(f\"F1 Score: {metrics['report']['0']['f1-score']:.4f}\")\n",
        "    print('Classification Report:')\n",
        "    for label, metric in metrics['report'].items():\n",
        "        if isinstance(metric, dict):\n",
        "            print(f\"Class {label}: Precision: {metric['precision']:.4f}, Recall: {metric['recall']:.4f}, F1 Score: {metric['f1-score']:.4f}\")\n"
      ],
      "metadata": {
        "colab": {
          "base_uri": "https://localhost:8080/"
        },
        "id": "Vc6xQO-MSToI",
        "outputId": "fa8b54c9-607c-4d78-e7c8-5b1af1559de4"
      },
      "execution_count": 22,
      "outputs": [
        {
          "output_type": "stream",
          "name": "stdout",
          "text": [
            "Evaluating PCA(150) + Resampling...\n",
            "Evaluating PCA(150) without Resampling...\n",
            "Evaluating Feature Selection + Resampling...\n",
            "Evaluating Feature Selection without Resampling...\n",
            "\n",
            "Strategy: PCA(150) + Resampling\n",
            "Mean CV Score: 0.9276\n",
            "AUC: 0.8969\n",
            "Classification Report for Class 0:\n",
            "Precision: 0.0010\n",
            "Recall: 0.5714\n",
            "F1 Score: 0.0020\n",
            "Classification Report:\n",
            "Class 0: Precision: 0.0010, Recall: 0.5714, F1 Score: 0.0020\n",
            "Class 1: Precision: 0.9999, Recall: 0.9277, F1 Score: 0.9624\n",
            "Class macro avg: Precision: 0.5005, Recall: 0.7495, F1 Score: 0.4822\n",
            "Class weighted avg: Precision: 0.9998, Recall: 0.9276, F1 Score: 0.9623\n",
            "\n",
            "Strategy: PCA(150) without Resampling\n",
            "Mean CV Score: 0.9915\n",
            "AUC: 0.8692\n",
            "Classification Report for Class 0:\n",
            "Precision: 0.0036\n",
            "Recall: 0.2571\n",
            "F1 Score: 0.0071\n",
            "Classification Report:\n",
            "Class 0: Precision: 0.0036, Recall: 0.2571, F1 Score: 0.0071\n",
            "Class 1: Precision: 0.9999, Recall: 0.9916, F1 Score: 0.9957\n",
            "Class macro avg: Precision: 0.5018, Recall: 0.6243, F1 Score: 0.5014\n",
            "Class weighted avg: Precision: 0.9998, Recall: 0.9915, F1 Score: 0.9956\n",
            "\n",
            "Strategy: Feature Selection + Resampling\n",
            "Mean CV Score: 0.9027\n",
            "AUC: 0.9615\n",
            "Classification Report for Class 0:\n",
            "Precision: 0.0013\n",
            "Recall: 1.0000\n",
            "F1 Score: 0.0025\n",
            "Classification Report:\n",
            "Class 0: Precision: 0.0013, Recall: 1.0000, F1 Score: 0.0025\n",
            "Class 1: Precision: 1.0000, Recall: 0.9026, F1 Score: 0.9488\n",
            "Class macro avg: Precision: 0.5006, Recall: 0.9513, F1 Score: 0.4757\n",
            "Class weighted avg: Precision: 0.9999, Recall: 0.9027, F1 Score: 0.9487\n",
            "\n",
            "Strategy: Feature Selection without Resampling\n",
            "Mean CV Score: 0.9598\n",
            "AUC: 0.9604\n",
            "Classification Report for Class 0:\n",
            "Precision: 0.0015\n",
            "Recall: 0.5143\n",
            "F1 Score: 0.0030\n",
            "Classification Report:\n",
            "Class 0: Precision: 0.0015, Recall: 0.5143, F1 Score: 0.0030\n",
            "Class 1: Precision: 0.9999, Recall: 0.9598, F1 Score: 0.9795\n",
            "Class macro avg: Precision: 0.5007, Recall: 0.7371, F1 Score: 0.4912\n",
            "Class weighted avg: Precision: 0.9998, Recall: 0.9598, F1 Score: 0.9794\n"
          ]
        }
      ]
    },
    {
      "cell_type": "markdown",
      "source": [
        "##**Finalize and Train Chosen Model**\n",
        "\n",
        "**Best Overall:** *Feature Selection without Resampling:* This strategy achieves the best balance among AUC, CV score, and performance across both classes, making it the most well-rounded option.\n",
        "\n",
        "**Class 0 Performance:** If the recall for class 0 is of utmost importance, the *Feature Selection + Resampling* strategy is worth considering further despite its low precision for class 0. Given that false negatives (e.g., failing a test incorrectly) are considered more detrimental than false positives (e.g., not passing a good test), I will choose Feature Selection + Resampling as the final model. Class 1's metrics are high and consistent across all strategies, so the decision is primarily based on improving class 0 performance.\n"
      ],
      "metadata": {
        "id": "d461zN4EDU4r"
      }
    },
    {
      "cell_type": "code",
      "source": [
        "from sklearn.model_selection import StratifiedKFold\n",
        "from sklearn.metrics import roc_auc_score, classification_report\n",
        "\n",
        "# Prepare data\n",
        "X = df_reduced.drop(['TLJYWBE', 'TLJYWBE_results'], axis=1).values\n",
        "y = df_reduced['TLJYWBE_results'].values\n",
        "\n",
        "# Pipeline with Feature Selection + Resampling\n",
        "pipeline = Pipeline([\n",
        "    ('imputer', SimpleImputer(strategy='mean')),\n",
        "    ('scaler', StandardScaler()),\n",
        "    ('feature_selection', SelectKBest(score_func=f_classif, k=100)),\n",
        "    ('upsampling', SMOTE(random_state=42)),\n",
        "    ('classifier', xgb.XGBClassifier(\n",
        "        eval_metric='logloss',\n",
        "        use_label_encoder=False,\n",
        "        random_state=42\n",
        "    ))\n",
        "])\n",
        "\n",
        "# Custom cross-validation\n",
        "cv = StratifiedKFold(n_splits=5, shuffle=True, random_state=42)\n",
        "cv_scores = []\n",
        "y_true, y_pred = [], []\n",
        "y_true_proba = []\n",
        "\n",
        "for train_idx, test_idx in cv.split(X, y):\n",
        "    X_train, X_test = X[train_idx], X[test_idx]\n",
        "    y_train, y_test = y[train_idx], y[test_idx]\n",
        "\n",
        "    # Recalculate scale_pos_weight for this fold\n",
        "    class_counts = pd.Series(y_train).value_counts()\n",
        "    scale_pos_weight = class_counts[0] / class_counts[1]\n",
        "\n",
        "    pipeline.named_steps['classifier'].set_params(scale_pos_weight=scale_pos_weight)\n",
        "\n",
        "    pipeline.fit(X_train, y_train)\n",
        "    y_test_pred = pipeline.predict(X_test)\n",
        "    y_test_proba = pipeline.predict_proba(X_test)[:, 1]\n",
        "\n",
        "    cv_scores.append(pipeline.score(X_test, y_test))\n",
        "    y_true.extend(y_test)\n",
        "    y_pred.extend(y_test_pred)\n",
        "    y_true_proba.extend(y_test_proba)\n",
        "\n",
        "# Convert lists to numpy arrays for evaluation\n",
        "y_true = np.array(y_true)\n",
        "y_pred = np.array(y_pred)\n",
        "y_true_proba = np.array(y_true_proba)\n",
        "\n",
        "# Evaluate the model\n",
        "print(f\"Cross-Validation Scores: {cv_scores}\")\n",
        "print(f\"Mean CV Score: {np.mean(cv_scores):.4f}\")\n",
        "\n",
        "print(\"Classification Report:\")\n",
        "print(classification_report(y_true, y_pred))\n",
        "\n",
        "print(\"Confusion Matrix:\")\n",
        "print(confusion_matrix(y_true, y_pred))\n",
        "\n",
        "print(f\"Precision: {precision_score(y_true, y_pred):.4f}\")\n",
        "print(f\"Recall: {recall_score(y_true, y_pred):.4f}\")\n",
        "print(f\"F1 Score: {f1_score(y_true, y_pred):.4f}\")\n",
        "print(f'ROC AUC: {roc_auc_score(y_true, y_true_proba):.4f}')"
      ],
      "metadata": {
        "colab": {
          "base_uri": "https://localhost:8080/"
        },
        "id": "mY5OhrVc25en",
        "outputId": "6f43a298-9113-42d9-8c75-be6a4d5f646e"
      },
      "execution_count": 11,
      "outputs": [
        {
          "output_type": "stream",
          "name": "stdout",
          "text": [
            "Cross-Validation Scores: [0.8851852504360388, 0.8802699036310142, 0.8844805412166805, 0.8850090731311993, 0.8837405965363542]\n",
            "Mean CV Score: 0.8837\n",
            "Classification Report:\n",
            "              precision    recall  f1-score   support\n",
            "\n",
            "           0       0.00      1.00      0.00        19\n",
            "           1       1.00      0.88      0.94    283786\n",
            "\n",
            "    accuracy                           0.88    283805\n",
            "   macro avg       0.50      0.94      0.47    283805\n",
            "weighted avg       1.00      0.88      0.94    283805\n",
            "\n",
            "Confusion Matrix:\n",
            "[[    19      0]\n",
            " [ 32996 250790]]\n",
            "Precision: 1.0000\n",
            "Recall: 0.8837\n",
            "F1 Score: 0.9383\n",
            "ROC AUC: 0.9426\n"
          ]
        }
      ]
    },
    {
      "cell_type": "code",
      "source": [],
      "metadata": {
        "id": "YM8A9rOnxt0B"
      },
      "execution_count": null,
      "outputs": []
    }
  ]
}